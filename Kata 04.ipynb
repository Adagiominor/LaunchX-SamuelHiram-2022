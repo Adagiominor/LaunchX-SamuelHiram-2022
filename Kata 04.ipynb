{
 "cells": [
  {
   "cell_type": "code",
   "execution_count": 41,
   "metadata": {},
   "outputs": [
    {
     "name": "stdout",
     "output_type": "stream",
     "text": [
      "\n",
      "On average, the Moon moves 4cm away from the Earth every year\n",
      "The highest daylight temperature of the Moon is 127 C.\n",
      "\n",
      "On average, the Moon moves 4cm away from the Earth every year\n",
      "The highest daylight temperature of the Moon is 127 celcius.\n"
     ]
    }
   ],
   "source": [
    "text = \"\"\"Interesting facts about the Moon. The Moon is Earth's only satellite. There are several interesting facts about the Moon and how it affects life here on Earth. \n",
    "On average, the Moon moves 4cm away from the Earth every year. This yearly drift is not significant enough to cause immediate effects on Earth. The highest daylight temperature of the Moon is 127 C.\"\"\"\n",
    "\n",
    "\n",
    "parts = text.split('. ')\n",
    "\n",
    "palabras_clave = [\"average\", \"temperature\", \"distance\"]\n",
    "\n",
    "for oracion in parts:\n",
    "    for palabra in palabras_clave:\n",
    "        if(palabra in oracion):\n",
    "            print(oracion)\n",
    "            break\n",
    "\n",
    "for oracion in parts:\n",
    "    for palabra in palabras_clave:\n",
    "        if(palabra in oracion):\n",
    "            print(oracion.replace(\"C\", \"celcius\"))\n",
    "            break\n",
    "\n",
    "\n",
    "## separas las oraciones, luego buscas en cada oracion alguna palabra clave, de tal forma que al ciclarlo y encontrar una clave imprimes\n",
    "\n",
    "\n",
    "\n",
    "\n"
   ]
  },
  {
   "cell_type": "code",
   "execution_count": 54,
   "metadata": {},
   "outputs": [
    {
     "name": "stdout",
     "output_type": "stream",
     "text": [
      "Gravity Facts About Moon\n",
      "-------------------------------------------------------------------------------\n",
      "Planet Name: Earth\n",
      "Gravity on Moon: 1.6199999999999999 m/s2\n",
      "\n",
      "\n",
      "Gravity Facts About Mars\n",
      "-------------------------------------------------------------------------------\n",
      "Planet Name: Mars\n",
      "Gravity on Ganimedes: 1.4300000000000002 m/s2\n"
     ]
    }
   ],
   "source": [
    "tex = \"gravity facts about Moon\"\n",
    "nam = \"moon\"\n",
    "grav = 0.00162 # in kms\n",
    "plan = \"earth\"\n",
    "\n",
    "\n",
    "def plantilla(text_title, name, gravity, planet):\n",
    " print(f\"{text_title.title()}\")\n",
    " print(\"-------------------------------------------------------------------------------\")\n",
    " print(\"Planet Name: {planet}\\nGravity on {name}: {gravity} m/s2\".format(planet = planet.title(), name = name.title(), gravity = gravity * 1000))\n",
    "\n",
    "plantilla(tex,nam,grav,plan)\n",
    "\n",
    "tex = \"gravity facts about Mars\"\n",
    "nam = \"Ganimedes\"\n",
    "grav = 0.00143 # in kms\n",
    "plan = \"Mars\"\n",
    "\n",
    "\n",
    "print(\"\\n\")\n",
    "plantilla(tex,nam,grav,plan)\n",
    "\n",
    "\n"
   ]
  }
 ],
 "metadata": {
  "interpreter": {
   "hash": "6d76f694e279269c34b42ea052c68e0d5eba6ec6bf6abbb1a79f7f673918bcac"
  },
  "kernelspec": {
   "display_name": "Python 3.10.2 64-bit",
   "language": "python",
   "name": "python3"
  },
  "language_info": {
   "codemirror_mode": {
    "name": "ipython",
    "version": 3
   },
   "file_extension": ".py",
   "mimetype": "text/x-python",
   "name": "python",
   "nbconvert_exporter": "python",
   "pygments_lexer": "ipython3",
   "version": "3.10.2"
  },
  "orig_nbformat": 4
 },
 "nbformat": 4,
 "nbformat_minor": 2
}
