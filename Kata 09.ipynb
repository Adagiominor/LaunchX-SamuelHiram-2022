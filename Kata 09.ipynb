{
 "cells": [
  {
   "cell_type": "code",
   "execution_count": 5,
   "metadata": {},
   "outputs": [
    {
     "name": "stdout",
     "output_type": "stream",
     "text": [
      "Combustible en promedio en los 3 depositos: 241 l\n"
     ]
    }
   ],
   "source": [
    "from math import ceil\n",
    "\n",
    "def function(tank1, tank2, tank3):\n",
    "    return(\"Combustible en promedio en los 3 depositos: %s l\" %prom(tank1,tank2,tank3))\n",
    "\n",
    "def prom(num1, num2, num3):\n",
    "    return(ceil((num1 + num2 + num3) / 3))\n",
    "\n",
    "print(function(23.54,243.3,454.3))#litros\n",
    "    "
   ]
  },
  {
   "cell_type": "code",
   "execution_count": 22,
   "metadata": {},
   "outputs": [
    {
     "name": "stdout",
     "output_type": "stream",
     "text": [
      "\n",
      "    Destino: marte\n",
      "    Tiempo total: 50 minutes\n",
      "    Combustible: 300 litros\n",
      "    \n",
      "\n",
      "    destino mars\n",
      "    tiempo total: 1652 minutos\n",
      "    combustible: 366\n",
      "\n",
      "    \n",
      "\n",
      "destino mars \n",
      "tiempo total: 122 \n",
      "minutos \n",
      "combustible: 26 l\n",
      "principal -> 3 l.\n",
      "secundario -> 23 l.\n"
     ]
    }
   ],
   "source": [
    "\n",
    "\n",
    "def inform(hora_lanzamiento, tiempo_vuelo, destino, tanque):\n",
    "    return f\"\"\"\n",
    "    Destino: {destino}\n",
    "    Tiempo total: {hora_lanzamiento + tiempo_vuelo} minutes\n",
    "    Combustible: {tanque} litros\n",
    "    \"\"\"\n",
    "\n",
    "print(inform(destino=\"marte\",hora_lanzamiento=30, tiempo_vuelo=20, tanque=300))\n",
    "\n",
    "def informVar(destino,*minutos, **tanques):\n",
    "    return f\"\"\"\n",
    "    destino {destino}\n",
    "    tiempo total: {sum(minutos)} minutos\n",
    "    combustible: {sum(tanques.values())}\n",
    "\n",
    "    \"\"\"\n",
    "\n",
    "print(informVar(\"mars\", 23,424,535,636,34, principal=333, reserva=33))\n",
    "\n",
    "\n",
    "def informVar(destino,*minutos, **tanques):\n",
    "    repor = f\"\\ndestino {destino} \\ntiempo total: {sum(minutos)} \\nminutos \\ncombustible: {sum(tanques.values())} l.\"\n",
    "    for name, lts in tanques.items():\n",
    "        repor += f\"\\n{name} -> {lts} l.\";\n",
    "    return repor\n",
    "\n",
    "print(informVar('mars', 23, 44, 55, principal=3, secundario=23))\n",
    "    "
   ]
  }
 ],
 "metadata": {
  "interpreter": {
   "hash": "6d76f694e279269c34b42ea052c68e0d5eba6ec6bf6abbb1a79f7f673918bcac"
  },
  "kernelspec": {
   "display_name": "Python 3.10.2 64-bit",
   "language": "python",
   "name": "python3"
  },
  "language_info": {
   "codemirror_mode": {
    "name": "ipython",
    "version": 3
   },
   "file_extension": ".py",
   "mimetype": "text/x-python",
   "name": "python",
   "nbconvert_exporter": "python",
   "pygments_lexer": "ipython3",
   "version": "3.10.2"
  },
  "orig_nbformat": 4
 },
 "nbformat": 4,
 "nbformat_minor": 2
}
