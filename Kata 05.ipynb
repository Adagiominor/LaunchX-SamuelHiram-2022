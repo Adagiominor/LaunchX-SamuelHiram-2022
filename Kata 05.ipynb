{
 "cells": [
  {
   "cell_type": "code",
   "execution_count": 12,
   "metadata": {},
   "outputs": [
    {
     "name": "stdout",
     "output_type": "stream",
     "text": [
      "Distance in km btw Earth-Jupyter = 628949330\n",
      "Distance in miles btw Earth-Jupyter = 390577534\n"
     ]
    }
   ],
   "source": [
    "from math import ceil, floor\n",
    "\n",
    "dis_earth = 149597870 #km\n",
    "dis_Jupyter = 778547200 #km\n",
    "\n",
    "dis_km_btw__earth_jupyter = abs(dis_Jupyter - dis_earth);\n",
    "dis_miles_btw_earth_jupyter = ceil(0.621 * dis_km_btw__earth_jupyter)\n",
    "\n",
    "print(f\"Distance in km btw Earth-Jupyter = {dis_km_btw__earth_jupyter}\")\n",
    "print(f\"Distance in miles btw Earth-Jupyter = {dis_miles_btw_earth_jupyter}\")\n"
   ]
  },
  {
   "cell_type": "code",
   "execution_count": 19,
   "metadata": {},
   "outputs": [
    {
     "name": "stdout",
     "output_type": "stream",
     "text": [
      "2699928\n",
      "1676655.288\n"
     ]
    }
   ],
   "source": [
    "planet1 = int(input(\"Distance btw planet one and sun --> \"))\n",
    "planet2 = int(input(\"Distance btw planet two and sun --> \"))\n",
    "\n",
    "\n",
    "km_distance_btw = abs(planet1 - planet2)\n",
    "mi_distance_btw = km_distance_btw * 0.621\n",
    "\n",
    "print(km_distance_btw)\n",
    "print(mi_distance_btw)\n",
    "\n"
   ]
  }
 ],
 "metadata": {
  "interpreter": {
   "hash": "6d76f694e279269c34b42ea052c68e0d5eba6ec6bf6abbb1a79f7f673918bcac"
  },
  "kernelspec": {
   "display_name": "Python 3.10.2 64-bit",
   "language": "python",
   "name": "python3"
  },
  "language_info": {
   "codemirror_mode": {
    "name": "ipython",
    "version": 3
   },
   "file_extension": ".py",
   "mimetype": "text/x-python",
   "name": "python",
   "nbconvert_exporter": "python",
   "pygments_lexer": "ipython3",
   "version": "3.10.2"
  },
  "orig_nbformat": 4
 },
 "nbformat": 4,
 "nbformat_minor": 2
}
