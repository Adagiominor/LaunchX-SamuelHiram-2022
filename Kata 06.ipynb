{
 "cells": [
  {
   "cell_type": "code",
   "execution_count": 14,
   "metadata": {},
   "outputs": [
    {
     "name": "stdout",
     "output_type": "stream",
     "text": [
      "Mercury\n",
      "Venus\n",
      "Earth\n",
      "Mars\n",
      "Jupiter\n",
      "Saturn\n",
      "Uranus\n",
      "Neptune\n",
      "\n",
      "there are 8 planets in the set planets.\n",
      "\n",
      "there are 9 planets in the set planets. The last planet is Pluto\n",
      "\n",
      "your planet it's Venus and is the number 1 at Solar System.\n",
      "there is the most nearby planets from Sun than Venus : ['Mercury'].\n",
      "there is the most far planets from Sun than Venus : ['Earth', 'Mars', 'Jupiter', 'Saturn', 'Uranus', 'Neptune', 'Pluto']\n"
     ]
    }
   ],
   "source": [
    "planets = ['Mercury','Venus','Earth','Mars','Jupiter','Saturn','Uranus','Neptune']\n",
    "\n",
    "# Creamos la lista planets y la mostramos\n",
    "for item in planets:\n",
    "    print(item)\n",
    "\n",
    "print(f\"\\nthere are {len(planets)} planets in the set planets.\")\n",
    "\n",
    "# Agregamos a plutón y mostramos el último elemento\n",
    "planets.append('Pluto')\n",
    "\n",
    "print(f\"\\nthere are {len(planets)} planets in the set planets. The last planet is {planets[-1]}\")\n",
    "\n",
    "\n",
    "##\n",
    "\n",
    "user_planet = str(input(\"Please insert a planet --> \")).title()\n",
    "\n",
    "index_planet = planets.index(user_planet)\n",
    "\n",
    "if index_planet != -1:\n",
    "    print(f\"\\nyour planet it's {str(user_planet).title()} and is the number {index_planet} at Solar System.\")\n",
    "    print(f\"there is more nearby planets from Sun than {user_planet.title()} : {planets[0:index_planet]}.\")\n",
    "    print(f\"there is more far planets from Sun than {user_planet.title()} : {planets[index_planet + 1:]}\")"
   ]
  }
 ],
 "metadata": {
  "interpreter": {
   "hash": "6d76f694e279269c34b42ea052c68e0d5eba6ec6bf6abbb1a79f7f673918bcac"
  },
  "kernelspec": {
   "display_name": "Python 3.10.2 64-bit",
   "language": "python",
   "name": "python3"
  },
  "language_info": {
   "codemirror_mode": {
    "name": "ipython",
    "version": 3
   },
   "file_extension": ".py",
   "mimetype": "text/x-python",
   "name": "python",
   "nbconvert_exporter": "python",
   "pygments_lexer": "ipython3",
   "version": "3.10.2"
  },
  "orig_nbformat": 4
 },
 "nbformat": 4,
 "nbformat_minor": 2
}
