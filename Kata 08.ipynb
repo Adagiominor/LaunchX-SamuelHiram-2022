{
 "cells": [
  {
   "cell_type": "code",
   "execution_count": 10,
   "metadata": {},
   "outputs": [
    {
     "name": "stdout",
     "output_type": "stream",
     "text": [
      "planet: mars\n",
      "moons: 2\n",
      "\n",
      "planet: mars\n",
      "moons: 2\n",
      "circunferencia (km): 6752\n"
     ]
    }
   ],
   "source": [
    "planet = {\n",
    "    'name':'mars',\n",
    "    'moons': 2,\n",
    "}\n",
    "\n",
    "info = f\"planet: {planet.get('name')}\\nmoons: {planet['moons']}\";\n",
    "\n",
    "print(info)\n",
    "\n",
    "planet['circunferencia (km)'] = {\n",
    "    'polar': 6752,\n",
    "    'equatorial': 6792,\n",
    "}\n",
    "\n",
    "\n",
    "\n",
    "print(\"\\n\" + info + f\"\\ncircunferencia (km): {planet['circunferencia (km)']['polar']}\")"
   ]
  },
  {
   "cell_type": "code",
   "execution_count": 15,
   "metadata": {},
   "outputs": [
    {
     "name": "stdout",
     "output_type": "stream",
     "text": [
      "planets: 12\n",
      "total moons = 214\n",
      "promedio = 17.833333333333332 (214/12)\n",
      "dict_values([0, 0, 1, 2, 79, 82, 27, 14, 5, 2, 1, 1])\n",
      "12\n"
     ]
    }
   ],
   "source": [
    "planet_moons = {\n",
    "    'mercury': 0,\n",
    "    'venus': 0,\n",
    "    'earth': 1,\n",
    "    'mars': 2,\n",
    "    'jupiter': 79,\n",
    "    'saturn': 82,\n",
    "    'uranus': 27,\n",
    "    'neptune': 14,\n",
    "    'pluto': 5,\n",
    "    'haumea': 2,\n",
    "    'makemake': 1,\n",
    "    'eris': 1\n",
    "}\n",
    "\n",
    "planet = 0;\n",
    "\n",
    "for value in planet_moons:\n",
    "    planet = planet + 1;\n",
    "print(f\"planets: {planet}\")\n",
    "\n",
    "moons = 0;\n",
    "\n",
    "for value in planet_moons.values():\n",
    "    moons = moons + value;\n",
    "print(f\"total moons = {moons}\")\n",
    "\n",
    "prom = moons / planet \n",
    "\n",
    "print(f\"promedio = {prom} ({moons}/{planet})\")\n",
    "\n",
    "\n",
    "# Añade el código para determinar el número de lunas.\n",
    "\n",
    "# Obtenemos la lista de las lunas\n",
    "# Almacenamos los resultados en una variable moons\n",
    "moons = planet_moons.values()\n",
    "\n",
    "print(moons)\n",
    "# Obtenemos el total de planetas\n",
    "# Almacenamos los resultados en una variable llamada years\n",
    "planets = len(planet_moons.keys())\n",
    "\n",
    "print(planets)"
   ]
  }
 ],
 "metadata": {
  "interpreter": {
   "hash": "6d76f694e279269c34b42ea052c68e0d5eba6ec6bf6abbb1a79f7f673918bcac"
  },
  "kernelspec": {
   "display_name": "Python 3.10.2 64-bit",
   "language": "python",
   "name": "python3"
  },
  "language_info": {
   "codemirror_mode": {
    "name": "ipython",
    "version": 3
   },
   "file_extension": ".py",
   "mimetype": "text/x-python",
   "name": "python",
   "nbconvert_exporter": "python",
   "pygments_lexer": "ipython3",
   "version": "3.10.2"
  },
  "orig_nbformat": 4
 },
 "nbformat": 4,
 "nbformat_minor": 2
}
